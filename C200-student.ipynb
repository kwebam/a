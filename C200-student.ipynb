{
 "cells": [
  {
   "cell_type": "code",
   "execution_count": 1,
   "metadata": {},
   "outputs": [],
   "source": [
    "print('Name - Amol Kumar')\n",
    "print('Create a GUI to read any CSV, clean the data, and create widgets to select the column names, and graph type')"
   ]
  },
  {
   "cell_type": "code",
   "execution_count": 2,
   "metadata": {},
   "outputs": [],
   "source": [
    "from ipywidgets import widgets\n",
    "from IPython.display import display, clear_output\n",
    "import pandas as pd\n",
    "from tkinter import Tk, filedialog\n",
    "import matplotlib.pyplot as plt \n",
    "\n",
    "graph_type = ['Choose one.. ','line','bar']\n",
    "operation =['choose','mean','max','min','sum','count']\n",
    "df = ''\n",
    "new_df = ''\n",
    "\n",
    "\n",
    "def select_files(b):\n",
    "    clear_output()\n",
    "    global df\n",
    "    root = Tk()\n",
    "    root.withdraw() \n",
    "    file_name = filedialog.askopenfilename()\n",
    "    df = pd.read_csv(file_name)\n",
    "    print(file_name)\n",
    "    df.replace('', float(\"nan\"), inplace = True)\n",
    "    df.replace('0', float(\"nan\"), inplace = True)\n",
    "    df.dropna()\n",
    "    display(df)\n",
    "    \n",
    "    groupby_col_widget = widgets.Dropdown(options = df.columns)\n",
    "    operation_col_widget = widgets.Dropdown(options = df.columns)\n",
    "    operation_widget = widgets.Dropdown(options = df.columns)\n",
    "    groupby_int = widgets.interactive(groupbydf, groupby_col = groupby_col_widget, operation_col = operation_col_widget, operation = operation_widget)\n",
    "    display(groupby_int)\n",
    "\n",
    "    \n",
    "def get_widget():\n",
    "    global df\n",
    "    global new_df\n",
    "    xlabel_widget = widgets.Dropdown(options = new_df.columns)\n",
    "    ylabel_widget = widgets.Dropdown(options = new_df.columns)\n",
    "    graph_widget = widgets.Dropdown(options = graph_type)\n",
    "    graph = widgets.interactive(dislpay_plot, xaxis = xlabel_widget, yaxis = ylabel_widget, graph_type = graph_widget)\n",
    "    display(graph)\n",
    "    \n",
    "    \n",
    "    \n",
    "\n",
    "\n",
    "\n",
    "def groupbydf(groupby_col, operation_col, operation):\n",
    "    print(\"groupby\")\n",
    "\n",
    "\n",
    "    \n",
    "\n",
    "fileselect = widgets.Button(description=\"File select\")\n",
    "fileselect.on_click(select_files)\n",
    "\n",
    "display(fileselect)\n"
   ]
  },
  {
   "cell_type": "code",
   "execution_count": null,
   "metadata": {},
   "outputs": [],
   "source": []
  },
  {
   "cell_type": "code",
   "execution_count": null,
   "metadata": {},
   "outputs": [],
   "source": []
  },
  {
   "cell_type": "code",
   "execution_count": null,
   "metadata": {},
   "outputs": [],
   "source": []
  }
 ],
 "metadata": {
  "kernelspec": {
   "display_name": "Python 3",
   "language": "python",
   "name": "python3"
  },
  "language_info": {
   "codemirror_mode": {
    "name": "ipython",
    "version": 3
   },
   "file_extension": ".py",
   "mimetype": "text/x-python",
   "name": "python",
   "nbconvert_exporter": "python",
   "pygments_lexer": "ipython3",
   "version": "3.8.8"
  }
 },
 "nbformat": 4,
 "nbformat_minor": 4
}
